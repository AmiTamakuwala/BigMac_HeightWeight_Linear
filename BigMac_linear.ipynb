{
 "cells": [
  {
   "cell_type": "markdown",
   "id": "aa640813",
   "metadata": {},
   "source": [
    "# ------   Big Mac Price- Linear Regression   ------"
   ]
  },
  {
   "cell_type": "code",
   "execution_count": 28,
   "id": "1978a4a8",
   "metadata": {},
   "outputs": [],
   "source": [
    "import pandas as pd\n",
    "import numpy as np\n",
    "import matplotlib.pyplot as plt\n",
    "import os\n"
   ]
  },
  {
   "cell_type": "code",
   "execution_count": 29,
   "id": "8f21822e",
   "metadata": {},
   "outputs": [
    {
     "data": {
      "text/html": [
       "<div>\n",
       "<style scoped>\n",
       "    .dataframe tbody tr th:only-of-type {\n",
       "        vertical-align: middle;\n",
       "    }\n",
       "\n",
       "    .dataframe tbody tr th {\n",
       "        vertical-align: top;\n",
       "    }\n",
       "\n",
       "    .dataframe thead th {\n",
       "        text-align: right;\n",
       "    }\n",
       "</style>\n",
       "<table border=\"1\" class=\"dataframe\">\n",
       "  <thead>\n",
       "    <tr style=\"text-align: right;\">\n",
       "      <th></th>\n",
       "      <th>Country</th>\n",
       "      <th>Big Mac Net Price (U.S. $)</th>\n",
       "      <th>Hourly Wages (U.S. $)</th>\n",
       "    </tr>\n",
       "  </thead>\n",
       "  <tbody>\n",
       "    <tr>\n",
       "      <th>0</th>\n",
       "      <td>Argentina</td>\n",
       "      <td>1.42</td>\n",
       "      <td>1.70</td>\n",
       "    </tr>\n",
       "    <tr>\n",
       "      <th>1</th>\n",
       "      <td>Australia</td>\n",
       "      <td>1.86</td>\n",
       "      <td>7.80</td>\n",
       "    </tr>\n",
       "    <tr>\n",
       "      <th>2</th>\n",
       "      <td>Brazil</td>\n",
       "      <td>1.48</td>\n",
       "      <td>2.05</td>\n",
       "    </tr>\n",
       "    <tr>\n",
       "      <th>3</th>\n",
       "      <td>Britain</td>\n",
       "      <td>3.14</td>\n",
       "      <td>12.30</td>\n",
       "    </tr>\n",
       "    <tr>\n",
       "      <th>4</th>\n",
       "      <td>Canada</td>\n",
       "      <td>2.21</td>\n",
       "      <td>9.35</td>\n",
       "    </tr>\n",
       "    <tr>\n",
       "      <th>5</th>\n",
       "      <td>Chile</td>\n",
       "      <td>1.96</td>\n",
       "      <td>2.80</td>\n",
       "    </tr>\n",
       "    <tr>\n",
       "      <th>6</th>\n",
       "      <td>China</td>\n",
       "      <td>1.20</td>\n",
       "      <td>2.40</td>\n",
       "    </tr>\n",
       "    <tr>\n",
       "      <th>7</th>\n",
       "      <td>CzechRepublic</td>\n",
       "      <td>1.96</td>\n",
       "      <td>2.40</td>\n",
       "    </tr>\n",
       "    <tr>\n",
       "      <th>8</th>\n",
       "      <td>Denmark</td>\n",
       "      <td>4.09</td>\n",
       "      <td>14.40</td>\n",
       "    </tr>\n",
       "    <tr>\n",
       "      <th>9</th>\n",
       "      <td>EuroArea</td>\n",
       "      <td>2.98</td>\n",
       "      <td>9.59</td>\n",
       "    </tr>\n",
       "    <tr>\n",
       "      <th>10</th>\n",
       "      <td>Hungary</td>\n",
       "      <td>2.19</td>\n",
       "      <td>3.00</td>\n",
       "    </tr>\n",
       "    <tr>\n",
       "      <th>11</th>\n",
       "      <td>Indonesia</td>\n",
       "      <td>1.84</td>\n",
       "      <td>1.50</td>\n",
       "    </tr>\n",
       "    <tr>\n",
       "      <th>12</th>\n",
       "      <td>Japan</td>\n",
       "      <td>2.18</td>\n",
       "      <td>13.60</td>\n",
       "    </tr>\n",
       "    <tr>\n",
       "      <th>13</th>\n",
       "      <td>Malaysia</td>\n",
       "      <td>1.33</td>\n",
       "      <td>3.10</td>\n",
       "    </tr>\n",
       "    <tr>\n",
       "      <th>14</th>\n",
       "      <td>Mexico</td>\n",
       "      <td>2.18</td>\n",
       "      <td>2.00</td>\n",
       "    </tr>\n",
       "    <tr>\n",
       "      <th>15</th>\n",
       "      <td>NewZealand</td>\n",
       "      <td>2.22</td>\n",
       "      <td>6.80</td>\n",
       "    </tr>\n",
       "    <tr>\n",
       "      <th>16</th>\n",
       "      <td>Philippines</td>\n",
       "      <td>2.24</td>\n",
       "      <td>1.20</td>\n",
       "    </tr>\n",
       "    <tr>\n",
       "      <th>17</th>\n",
       "      <td>Poland</td>\n",
       "      <td>1.62</td>\n",
       "      <td>2.20</td>\n",
       "    </tr>\n",
       "    <tr>\n",
       "      <th>18</th>\n",
       "      <td>Russia</td>\n",
       "      <td>1.32</td>\n",
       "      <td>2.60</td>\n",
       "    </tr>\n",
       "    <tr>\n",
       "      <th>19</th>\n",
       "      <td>Singapore</td>\n",
       "      <td>1.85</td>\n",
       "      <td>5.40</td>\n",
       "    </tr>\n",
       "    <tr>\n",
       "      <th>20</th>\n",
       "      <td>SouthAfrica</td>\n",
       "      <td>1.85</td>\n",
       "      <td>3.90</td>\n",
       "    </tr>\n",
       "    <tr>\n",
       "      <th>21</th>\n",
       "      <td>SouthKorea</td>\n",
       "      <td>2.70</td>\n",
       "      <td>5.90</td>\n",
       "    </tr>\n",
       "    <tr>\n",
       "      <th>22</th>\n",
       "      <td>Sweden</td>\n",
       "      <td>3.60</td>\n",
       "      <td>10.90</td>\n",
       "    </tr>\n",
       "    <tr>\n",
       "      <th>23</th>\n",
       "      <td>Switzerland</td>\n",
       "      <td>4.60</td>\n",
       "      <td>17.80</td>\n",
       "    </tr>\n",
       "    <tr>\n",
       "      <th>24</th>\n",
       "      <td>Thailand</td>\n",
       "      <td>1.38</td>\n",
       "      <td>1.70</td>\n",
       "    </tr>\n",
       "    <tr>\n",
       "      <th>25</th>\n",
       "      <td>Turkey</td>\n",
       "      <td>2.34</td>\n",
       "      <td>3.20</td>\n",
       "    </tr>\n",
       "    <tr>\n",
       "      <th>26</th>\n",
       "      <td>UnitedStates</td>\n",
       "      <td>2.71</td>\n",
       "      <td>14.30</td>\n",
       "    </tr>\n",
       "  </tbody>\n",
       "</table>\n",
       "</div>"
      ],
      "text/plain": [
       "          Country  Big Mac Net Price (U.S. $)  Hourly Wages (U.S. $)\n",
       "0       Argentina                        1.42                   1.70\n",
       "1       Australia                        1.86                   7.80\n",
       "2          Brazil                        1.48                   2.05\n",
       "3         Britain                        3.14                  12.30\n",
       "4          Canada                        2.21                   9.35\n",
       "5           Chile                        1.96                   2.80\n",
       "6           China                        1.20                   2.40\n",
       "7   CzechRepublic                        1.96                   2.40\n",
       "8         Denmark                        4.09                  14.40\n",
       "9        EuroArea                        2.98                   9.59\n",
       "10        Hungary                        2.19                   3.00\n",
       "11      Indonesia                        1.84                   1.50\n",
       "12          Japan                        2.18                  13.60\n",
       "13       Malaysia                        1.33                   3.10\n",
       "14         Mexico                        2.18                   2.00\n",
       "15     NewZealand                        2.22                   6.80\n",
       "16    Philippines                        2.24                   1.20\n",
       "17         Poland                        1.62                   2.20\n",
       "18         Russia                        1.32                   2.60\n",
       "19      Singapore                        1.85                   5.40\n",
       "20    SouthAfrica                        1.85                   3.90\n",
       "21     SouthKorea                        2.70                   5.90\n",
       "22         Sweden                        3.60                  10.90\n",
       "23    Switzerland                        4.60                  17.80\n",
       "24       Thailand                        1.38                   1.70\n",
       "25         Turkey                        2.34                   3.20\n",
       "26   UnitedStates                        2.71                  14.30"
      ]
     },
     "execution_count": 29,
     "metadata": {},
     "output_type": "execute_result"
    }
   ],
   "source": [
    "BigMac = pd.read_csv(\"BigMac.csv\")\n",
    "BigMac"
   ]
  },
  {
   "cell_type": "code",
   "execution_count": 30,
   "id": "cc7ff16e",
   "metadata": {},
   "outputs": [
    {
     "data": {
      "text/plain": [
       "(27, 3)"
      ]
     },
     "execution_count": 30,
     "metadata": {},
     "output_type": "execute_result"
    }
   ],
   "source": [
    "BigMac.shape"
   ]
  },
  {
   "cell_type": "markdown",
   "id": "b9889f34",
   "metadata": {},
   "source": [
    "## Normal Equation Implementation for Regression:"
   ]
  },
  {
   "cell_type": "code",
   "execution_count": 31,
   "id": "75db119d",
   "metadata": {},
   "outputs": [
    {
     "data": {
      "text/plain": [
       "Index(['Country', 'Big Mac Net Price (U.S. $)', 'Hourly Wages (U.S. $)'], dtype='object')"
      ]
     },
     "execution_count": 31,
     "metadata": {},
     "output_type": "execute_result"
    }
   ],
   "source": [
    "BigMac.columns"
   ]
  },
  {
   "cell_type": "code",
   "execution_count": 32,
   "id": "a091b063",
   "metadata": {},
   "outputs": [
    {
     "data": {
      "text/plain": [
       "array([1.42, 1.86, 1.48, 3.14, 2.21, 1.96, 1.2 , 1.96, 4.09, 2.98, 2.19,\n",
       "       1.84, 2.18, 1.33, 2.18, 2.22, 2.24, 1.62, 1.32, 1.85, 1.85, 2.7 ,\n",
       "       3.6 , 4.6 , 1.38, 2.34, 2.71])"
      ]
     },
     "execution_count": 32,
     "metadata": {},
     "output_type": "execute_result"
    }
   ],
   "source": [
    "X = np.array(BigMac[\"Big Mac Net Price (U.S. $)\"])\n",
    "X"
   ]
  },
  {
   "cell_type": "code",
   "execution_count": 33,
   "id": "ed855869",
   "metadata": {},
   "outputs": [
    {
     "data": {
      "text/plain": [
       "((27,), 1)"
      ]
     },
     "execution_count": 33,
     "metadata": {},
     "output_type": "execute_result"
    }
   ],
   "source": [
    "X.shape, X.ndim"
   ]
  },
  {
   "cell_type": "code",
   "execution_count": 34,
   "id": "0af656e4",
   "metadata": {},
   "outputs": [
    {
     "data": {
      "text/plain": [
       "array([ 1.7 ,  7.8 ,  2.05, 12.3 ,  9.35,  2.8 ,  2.4 ,  2.4 , 14.4 ,\n",
       "        9.59,  3.  ,  1.5 , 13.6 ,  3.1 ,  2.  ,  6.8 ,  1.2 ,  2.2 ,\n",
       "        2.6 ,  5.4 ,  3.9 ,  5.9 , 10.9 , 17.8 ,  1.7 ,  3.2 , 14.3 ])"
      ]
     },
     "execution_count": 34,
     "metadata": {},
     "output_type": "execute_result"
    }
   ],
   "source": [
    "y = np.array(BigMac[\"Hourly Wages (U.S. $)\"])\n",
    "y"
   ]
  },
  {
   "cell_type": "code",
   "execution_count": 35,
   "id": "607f3780",
   "metadata": {},
   "outputs": [
    {
     "data": {
      "text/plain": [
       "((27,), 1)"
      ]
     },
     "execution_count": 35,
     "metadata": {},
     "output_type": "execute_result"
    }
   ],
   "source": [
    "y.shape, y.ndim"
   ]
  },
  {
   "cell_type": "code",
   "execution_count": 36,
   "id": "7c191fd9",
   "metadata": {},
   "outputs": [
    {
     "data": {
      "text/plain": [
       "array([[1.  , 1.42],\n",
       "       [1.  , 1.86],\n",
       "       [1.  , 1.48],\n",
       "       [1.  , 3.14],\n",
       "       [1.  , 2.21],\n",
       "       [1.  , 1.96],\n",
       "       [1.  , 1.2 ],\n",
       "       [1.  , 1.96],\n",
       "       [1.  , 4.09],\n",
       "       [1.  , 2.98],\n",
       "       [1.  , 2.19],\n",
       "       [1.  , 1.84],\n",
       "       [1.  , 2.18],\n",
       "       [1.  , 1.33],\n",
       "       [1.  , 2.18],\n",
       "       [1.  , 2.22],\n",
       "       [1.  , 2.24],\n",
       "       [1.  , 1.62],\n",
       "       [1.  , 1.32],\n",
       "       [1.  , 1.85],\n",
       "       [1.  , 1.85],\n",
       "       [1.  , 2.7 ],\n",
       "       [1.  , 3.6 ],\n",
       "       [1.  , 4.6 ],\n",
       "       [1.  , 1.38],\n",
       "       [1.  , 2.34],\n",
       "       [1.  , 2.71]])"
      ]
     },
     "execution_count": 36,
     "metadata": {},
     "output_type": "execute_result"
    }
   ],
   "source": [
    "# X has only 1 dim.\n",
    "# will transform it into 2 dim:\n",
    "# use \"np.c_[np.ones]\"\n",
    "\n",
    "X_b = np.c_[np.ones((27,1)),X]\n",
    "X_b"
   ]
  },
  {
   "cell_type": "code",
   "execution_count": 37,
   "id": "b8dc3737",
   "metadata": {},
   "outputs": [
    {
     "data": {
      "text/plain": [
       "((27, 2), 2)"
      ]
     },
     "execution_count": 37,
     "metadata": {},
     "output_type": "execute_result"
    }
   ],
   "source": [
    "X_b.shape, X_b.ndim"
   ]
  },
  {
   "cell_type": "code",
   "execution_count": 38,
   "id": "6303f8b0",
   "metadata": {},
   "outputs": [],
   "source": [
    "Theta_best = np.linalg.inv(X_b.T.dot(X_b)).dot(X_b.T).dot(y)"
   ]
  },
  {
   "cell_type": "code",
   "execution_count": 39,
   "id": "5a066e94",
   "metadata": {},
   "outputs": [
    {
     "data": {
      "text/plain": [
       "(2,)"
      ]
     },
     "execution_count": 39,
     "metadata": {},
     "output_type": "execute_result"
    }
   ],
   "source": [
    "Theta_best.shape"
   ]
  },
  {
   "cell_type": "code",
   "execution_count": 40,
   "id": "ef15e6b5",
   "metadata": {},
   "outputs": [
    {
     "data": {
      "text/plain": [
       "array([ 2.18756532,  4.27364963,  2.47203136, 10.34225852,  5.93303487,\n",
       "        4.74775969,  1.14452317,  4.74775969, 14.84630418,  9.5836824 ,\n",
       "        5.83821285,  4.17882761,  5.79080185,  1.76086626,  5.79080185,\n",
       "        5.98044588,  6.07526789,  3.13578546,  1.71345525,  4.22623862,\n",
       "        4.22623862,  8.25617421, 12.52316484, 17.26426553,  1.99792129,\n",
       "        6.54937796,  8.30358522])"
      ]
     },
     "execution_count": 40,
     "metadata": {},
     "output_type": "execute_result"
    }
   ],
   "source": [
    "y_predict = X_b.dot(Theta_best)\n",
    "y_predict"
   ]
  },
  {
   "cell_type": "code",
   "execution_count": 41,
   "id": "d3ddc63d",
   "metadata": {},
   "outputs": [
    {
     "data": {
      "text/html": [
       "<div>\n",
       "<style scoped>\n",
       "    .dataframe tbody tr th:only-of-type {\n",
       "        vertical-align: middle;\n",
       "    }\n",
       "\n",
       "    .dataframe tbody tr th {\n",
       "        vertical-align: top;\n",
       "    }\n",
       "\n",
       "    .dataframe thead th {\n",
       "        text-align: right;\n",
       "    }\n",
       "</style>\n",
       "<table border=\"1\" class=\"dataframe\">\n",
       "  <thead>\n",
       "    <tr style=\"text-align: right;\">\n",
       "      <th></th>\n",
       "      <th>Country</th>\n",
       "      <th>Big Mac Net Price (U.S. $)</th>\n",
       "      <th>Hourly Wages (U.S. $)</th>\n",
       "      <th>Fitted/Predicted value of Wages($)</th>\n",
       "    </tr>\n",
       "  </thead>\n",
       "  <tbody>\n",
       "    <tr>\n",
       "      <th>0</th>\n",
       "      <td>Argentina</td>\n",
       "      <td>1.42</td>\n",
       "      <td>1.70</td>\n",
       "      <td>2.187565</td>\n",
       "    </tr>\n",
       "    <tr>\n",
       "      <th>1</th>\n",
       "      <td>Australia</td>\n",
       "      <td>1.86</td>\n",
       "      <td>7.80</td>\n",
       "      <td>4.273650</td>\n",
       "    </tr>\n",
       "    <tr>\n",
       "      <th>2</th>\n",
       "      <td>Brazil</td>\n",
       "      <td>1.48</td>\n",
       "      <td>2.05</td>\n",
       "      <td>2.472031</td>\n",
       "    </tr>\n",
       "    <tr>\n",
       "      <th>3</th>\n",
       "      <td>Britain</td>\n",
       "      <td>3.14</td>\n",
       "      <td>12.30</td>\n",
       "      <td>10.342259</td>\n",
       "    </tr>\n",
       "    <tr>\n",
       "      <th>4</th>\n",
       "      <td>Canada</td>\n",
       "      <td>2.21</td>\n",
       "      <td>9.35</td>\n",
       "      <td>5.933035</td>\n",
       "    </tr>\n",
       "    <tr>\n",
       "      <th>5</th>\n",
       "      <td>Chile</td>\n",
       "      <td>1.96</td>\n",
       "      <td>2.80</td>\n",
       "      <td>4.747760</td>\n",
       "    </tr>\n",
       "    <tr>\n",
       "      <th>6</th>\n",
       "      <td>China</td>\n",
       "      <td>1.20</td>\n",
       "      <td>2.40</td>\n",
       "      <td>1.144523</td>\n",
       "    </tr>\n",
       "    <tr>\n",
       "      <th>7</th>\n",
       "      <td>CzechRepublic</td>\n",
       "      <td>1.96</td>\n",
       "      <td>2.40</td>\n",
       "      <td>4.747760</td>\n",
       "    </tr>\n",
       "    <tr>\n",
       "      <th>8</th>\n",
       "      <td>Denmark</td>\n",
       "      <td>4.09</td>\n",
       "      <td>14.40</td>\n",
       "      <td>14.846304</td>\n",
       "    </tr>\n",
       "    <tr>\n",
       "      <th>9</th>\n",
       "      <td>EuroArea</td>\n",
       "      <td>2.98</td>\n",
       "      <td>9.59</td>\n",
       "      <td>9.583682</td>\n",
       "    </tr>\n",
       "    <tr>\n",
       "      <th>10</th>\n",
       "      <td>Hungary</td>\n",
       "      <td>2.19</td>\n",
       "      <td>3.00</td>\n",
       "      <td>5.838213</td>\n",
       "    </tr>\n",
       "    <tr>\n",
       "      <th>11</th>\n",
       "      <td>Indonesia</td>\n",
       "      <td>1.84</td>\n",
       "      <td>1.50</td>\n",
       "      <td>4.178828</td>\n",
       "    </tr>\n",
       "    <tr>\n",
       "      <th>12</th>\n",
       "      <td>Japan</td>\n",
       "      <td>2.18</td>\n",
       "      <td>13.60</td>\n",
       "      <td>5.790802</td>\n",
       "    </tr>\n",
       "    <tr>\n",
       "      <th>13</th>\n",
       "      <td>Malaysia</td>\n",
       "      <td>1.33</td>\n",
       "      <td>3.10</td>\n",
       "      <td>1.760866</td>\n",
       "    </tr>\n",
       "    <tr>\n",
       "      <th>14</th>\n",
       "      <td>Mexico</td>\n",
       "      <td>2.18</td>\n",
       "      <td>2.00</td>\n",
       "      <td>5.790802</td>\n",
       "    </tr>\n",
       "    <tr>\n",
       "      <th>15</th>\n",
       "      <td>NewZealand</td>\n",
       "      <td>2.22</td>\n",
       "      <td>6.80</td>\n",
       "      <td>5.980446</td>\n",
       "    </tr>\n",
       "    <tr>\n",
       "      <th>16</th>\n",
       "      <td>Philippines</td>\n",
       "      <td>2.24</td>\n",
       "      <td>1.20</td>\n",
       "      <td>6.075268</td>\n",
       "    </tr>\n",
       "    <tr>\n",
       "      <th>17</th>\n",
       "      <td>Poland</td>\n",
       "      <td>1.62</td>\n",
       "      <td>2.20</td>\n",
       "      <td>3.135785</td>\n",
       "    </tr>\n",
       "    <tr>\n",
       "      <th>18</th>\n",
       "      <td>Russia</td>\n",
       "      <td>1.32</td>\n",
       "      <td>2.60</td>\n",
       "      <td>1.713455</td>\n",
       "    </tr>\n",
       "    <tr>\n",
       "      <th>19</th>\n",
       "      <td>Singapore</td>\n",
       "      <td>1.85</td>\n",
       "      <td>5.40</td>\n",
       "      <td>4.226239</td>\n",
       "    </tr>\n",
       "    <tr>\n",
       "      <th>20</th>\n",
       "      <td>SouthAfrica</td>\n",
       "      <td>1.85</td>\n",
       "      <td>3.90</td>\n",
       "      <td>4.226239</td>\n",
       "    </tr>\n",
       "    <tr>\n",
       "      <th>21</th>\n",
       "      <td>SouthKorea</td>\n",
       "      <td>2.70</td>\n",
       "      <td>5.90</td>\n",
       "      <td>8.256174</td>\n",
       "    </tr>\n",
       "    <tr>\n",
       "      <th>22</th>\n",
       "      <td>Sweden</td>\n",
       "      <td>3.60</td>\n",
       "      <td>10.90</td>\n",
       "      <td>12.523165</td>\n",
       "    </tr>\n",
       "    <tr>\n",
       "      <th>23</th>\n",
       "      <td>Switzerland</td>\n",
       "      <td>4.60</td>\n",
       "      <td>17.80</td>\n",
       "      <td>17.264266</td>\n",
       "    </tr>\n",
       "    <tr>\n",
       "      <th>24</th>\n",
       "      <td>Thailand</td>\n",
       "      <td>1.38</td>\n",
       "      <td>1.70</td>\n",
       "      <td>1.997921</td>\n",
       "    </tr>\n",
       "    <tr>\n",
       "      <th>25</th>\n",
       "      <td>Turkey</td>\n",
       "      <td>2.34</td>\n",
       "      <td>3.20</td>\n",
       "      <td>6.549378</td>\n",
       "    </tr>\n",
       "    <tr>\n",
       "      <th>26</th>\n",
       "      <td>UnitedStates</td>\n",
       "      <td>2.71</td>\n",
       "      <td>14.30</td>\n",
       "      <td>8.303585</td>\n",
       "    </tr>\n",
       "  </tbody>\n",
       "</table>\n",
       "</div>"
      ],
      "text/plain": [
       "          Country  Big Mac Net Price (U.S. $)  Hourly Wages (U.S. $)  \\\n",
       "0       Argentina                        1.42                   1.70   \n",
       "1       Australia                        1.86                   7.80   \n",
       "2          Brazil                        1.48                   2.05   \n",
       "3         Britain                        3.14                  12.30   \n",
       "4          Canada                        2.21                   9.35   \n",
       "5           Chile                        1.96                   2.80   \n",
       "6           China                        1.20                   2.40   \n",
       "7   CzechRepublic                        1.96                   2.40   \n",
       "8         Denmark                        4.09                  14.40   \n",
       "9        EuroArea                        2.98                   9.59   \n",
       "10        Hungary                        2.19                   3.00   \n",
       "11      Indonesia                        1.84                   1.50   \n",
       "12          Japan                        2.18                  13.60   \n",
       "13       Malaysia                        1.33                   3.10   \n",
       "14         Mexico                        2.18                   2.00   \n",
       "15     NewZealand                        2.22                   6.80   \n",
       "16    Philippines                        2.24                   1.20   \n",
       "17         Poland                        1.62                   2.20   \n",
       "18         Russia                        1.32                   2.60   \n",
       "19      Singapore                        1.85                   5.40   \n",
       "20    SouthAfrica                        1.85                   3.90   \n",
       "21     SouthKorea                        2.70                   5.90   \n",
       "22         Sweden                        3.60                  10.90   \n",
       "23    Switzerland                        4.60                  17.80   \n",
       "24       Thailand                        1.38                   1.70   \n",
       "25         Turkey                        2.34                   3.20   \n",
       "26   UnitedStates                        2.71                  14.30   \n",
       "\n",
       "    Fitted/Predicted value of Wages($)  \n",
       "0                             2.187565  \n",
       "1                             4.273650  \n",
       "2                             2.472031  \n",
       "3                            10.342259  \n",
       "4                             5.933035  \n",
       "5                             4.747760  \n",
       "6                             1.144523  \n",
       "7                             4.747760  \n",
       "8                            14.846304  \n",
       "9                             9.583682  \n",
       "10                            5.838213  \n",
       "11                            4.178828  \n",
       "12                            5.790802  \n",
       "13                            1.760866  \n",
       "14                            5.790802  \n",
       "15                            5.980446  \n",
       "16                            6.075268  \n",
       "17                            3.135785  \n",
       "18                            1.713455  \n",
       "19                            4.226239  \n",
       "20                            4.226239  \n",
       "21                            8.256174  \n",
       "22                           12.523165  \n",
       "23                           17.264266  \n",
       "24                            1.997921  \n",
       "25                            6.549378  \n",
       "26                            8.303585  "
      ]
     },
     "execution_count": 41,
     "metadata": {},
     "output_type": "execute_result"
    }
   ],
   "source": [
    "# adding columns of fitted/predicted value called y-hat:\n",
    "BigMac[\"Fitted/Predicted value of Wages($)\"] = y_predict\n",
    "BigMac"
   ]
  },
  {
   "cell_type": "code",
   "execution_count": 42,
   "id": "11b85231",
   "metadata": {},
   "outputs": [
    {
     "data": {
      "image/png": "[encoded data removed]",
      "text/plain": [
       "<Figure size 864x432 with 1 Axes>"
      ]
     },
     "metadata": {
      "needs_background": "light"
     },
     "output_type": "display_data"
    }
   ],
   "source": [
    "# create a plot:\n",
    "plt.figure(figsize=(12,6))\n",
    "plt.plot(X, y_predict, \"b-\")\n",
    "plt.plot(X, y, \"r.\")\n",
    "plt.axis([1,5,0,20])\n",
    "plt.title(\"Linear Regression Prediction for hourly Wages using Normal equation form \")\n",
    "plt.xlabel(\"Big Mac Price($) (x)\")\n",
    "plt.ylabel(\"HurlyWages ($) (y)\")\n",
    "plt.show()"
   ]
  },
  {
   "cell_type": "markdown",
   "id": "f25aea54",
   "metadata": {},
   "source": [
    "## Linear Regression Implementation Using 'scikit-learn' library:"
   ]
  },
  {
   "cell_type": "code",
   "execution_count": 43,
   "id": "a218c7df",
   "metadata": {},
   "outputs": [],
   "source": [
    "from sklearn import linear_model\n",
    "lin_reg = linear_model.LinearRegression()"
   ]
  },
  {
   "cell_type": "code",
   "execution_count": 44,
   "id": "e0bac4b6",
   "metadata": {},
   "outputs": [
    {
     "data": {
      "text/plain": [
       "LinearRegression()"
      ]
     },
     "execution_count": 44,
     "metadata": {},
     "output_type": "execute_result"
    }
   ],
   "source": [
    "lin_reg.fit(X_b, y)"
   ]
  },
  {
   "cell_type": "code",
   "execution_count": 45,
   "id": "72851ab2",
   "metadata": {},
   "outputs": [
    {
     "data": {
      "text/plain": [
       "(-4.544797669024489, array([0.       , 4.7411007]))"
      ]
     },
     "execution_count": 45,
     "metadata": {},
     "output_type": "execute_result"
    }
   ],
   "source": [
    "# now compute linear regression- intercept & coefficient value:\n",
    "lin_reg.intercept_, lin_reg.coef_   "
   ]
  },
  {
   "cell_type": "code",
   "execution_count": 46,
   "id": "963fd0d8",
   "metadata": {},
   "outputs": [
    {
     "data": {
      "text/plain": [
       "array([ 2.18756532,  4.27364963,  2.47203136, 10.34225852,  5.93303487,\n",
       "        4.74775969,  1.14452317,  4.74775969, 14.84630418,  9.5836824 ,\n",
       "        5.83821285,  4.17882761,  5.79080185,  1.76086626,  5.79080185,\n",
       "        5.98044588,  6.07526789,  3.13578546,  1.71345525,  4.22623862,\n",
       "        4.22623862,  8.25617421, 12.52316484, 17.26426553,  1.99792129,\n",
       "        6.54937796,  8.30358522])"
      ]
     },
     "execution_count": 46,
     "metadata": {},
     "output_type": "execute_result"
    }
   ],
   "source": [
    "# calculate predict values (y-hat):\n",
    "y_pred = lin_reg.predict(X_b)\n",
    "y_pred"
   ]
  },
  {
   "cell_type": "code",
   "execution_count": 47,
   "id": "59d18d29",
   "metadata": {
    "scrolled": true
   },
   "outputs": [
    {
     "data": {
      "image/png": "[encoded data removed]",
      "text/plain": [
       "<Figure size 864x432 with 1 Axes>"
      ]
     },
     "metadata": {
      "needs_background": "light"
     },
     "output_type": "display_data"
    }
   ],
   "source": [
    "# create a plot:\n",
    "plt.figure(figsize=(12,6))\n",
    "plt.plot(X, y_pred, \"r-\")\n",
    "plt.plot(X, y, \"b.\")\n",
    "plt.axis([1,5, 0,20])\n",
    "plt.title(\"Linear Regression Prediction for wages using Scikit-learn library \")\n",
    "plt.xlabel(\"Big Mac price($) (x)\")\n",
    "plt.ylabel(\"hurly Wages($) (y)\")\n",
    "plt.show()"
   ]
  },
  {
   "cell_type": "code",
   "execution_count": 50,
   "id": "7ca1f918",
   "metadata": {},
   "outputs": [],
   "source": [
    "# Metrics Calculation:\n",
    "# import r2 score, MAE (mean absoulte error), MSE (mean squared error)\n",
    "\n",
    "from sklearn.metrics import r2_score, mean_absolute_error, mean_squared_error"
   ]
  },
  {
   "cell_type": "code",
   "execution_count": 51,
   "id": "e07b53b6",
   "metadata": {},
   "outputs": [
    {
     "data": {
      "text/plain": [
       "0.6596232610520947"
      ]
     },
     "execution_count": 51,
     "metadata": {},
     "output_type": "execute_result"
    }
   ],
   "source": [
    "r2_score (y, y_pred)"
   ]
  },
  {
   "cell_type": "code",
   "execution_count": 52,
   "id": "9fd14fe5",
   "metadata": {},
   "outputs": [
    {
     "data": {
      "text/plain": [
       "2.127643912818448"
      ]
     },
     "execution_count": 52,
     "metadata": {},
     "output_type": "execute_result"
    }
   ],
   "source": [
    "mean_absolute_error (y, y_pred)"
   ]
  },
  {
   "cell_type": "code",
   "execution_count": 53,
   "id": "f8be21b3",
   "metadata": {},
   "outputs": [
    {
     "data": {
      "text/plain": [
       "7.9682295440071735"
      ]
     },
     "execution_count": 53,
     "metadata": {},
     "output_type": "execute_result"
    }
   ],
   "source": [
    "mean_squared_error (y, y_pred)"
   ]
  },
  {
   "cell_type": "markdown",
   "id": "81c1e635",
   "metadata": {},
   "source": [
    "## Root Mean Squared Error: [RMSE]\n",
    "    "
   ]
  },
  {
   "cell_type": "code",
   "execution_count": 54,
   "id": "1a86d873",
   "metadata": {},
   "outputs": [],
   "source": [
    "# import math:\n",
    "\n",
    "import math\n",
    "def root_mean_squared_error(y, y_pred):\n",
    "    mse = np.square(np.subtract(y, y_pred)).mean()\n",
    "    rmse = math.sqrt(mse)\n",
    "    return rmse"
   ]
  },
  {
   "cell_type": "code",
   "execution_count": 55,
   "id": "ed422eba",
   "metadata": {},
   "outputs": [
    {
     "data": {
      "text/plain": [
       "2.8228052614389068"
      ]
     },
     "execution_count": 55,
     "metadata": {},
     "output_type": "execute_result"
    }
   ],
   "source": [
    "root_mean_squared_error(y, y_pred)"
   ]
  },
  {
   "cell_type": "code",
   "execution_count": 56,
   "id": "aa50607f",
   "metadata": {},
   "outputs": [
    {
     "data": {
      "text/plain": [
       "2.8228052614389068"
      ]
     },
     "execution_count": 56,
     "metadata": {},
     "output_type": "execute_result"
    }
   ],
   "source": [
    "# OR use \"math.sqrt\" function-one line func:\n",
    "math.sqrt(mean_squared_error(y, y_pred))"
   ]
  },
  {
   "cell_type": "markdown",
   "id": "f11ff027",
   "metadata": {},
   "source": [
    "## Gradient Descent Learning for linear regression"
   ]
  },
  {
   "cell_type": "code",
   "execution_count": 58,
   "id": "4f57e234",
   "metadata": {},
   "outputs": [],
   "source": [
    "# for finding out \"intercept\" & \"coefficient\""
   ]
  },
  {
   "cell_type": "code",
   "execution_count": 59,
   "id": "0da6c3a5",
   "metadata": {},
   "outputs": [
    {
     "data": {
      "text/plain": [
       "array([[1.  , 1.42],\n",
       "       [1.  , 1.86],\n",
       "       [1.  , 1.48],\n",
       "       [1.  , 3.14],\n",
       "       [1.  , 2.21],\n",
       "       [1.  , 1.96],\n",
       "       [1.  , 1.2 ],\n",
       "       [1.  , 1.96],\n",
       "       [1.  , 4.09],\n",
       "       [1.  , 2.98],\n",
       "       [1.  , 2.19],\n",
       "       [1.  , 1.84],\n",
       "       [1.  , 2.18],\n",
       "       [1.  , 1.33],\n",
       "       [1.  , 2.18],\n",
       "       [1.  , 2.22],\n",
       "       [1.  , 2.24],\n",
       "       [1.  , 1.62],\n",
       "       [1.  , 1.32],\n",
       "       [1.  , 1.85],\n",
       "       [1.  , 1.85],\n",
       "       [1.  , 2.7 ],\n",
       "       [1.  , 3.6 ],\n",
       "       [1.  , 4.6 ],\n",
       "       [1.  , 1.38],\n",
       "       [1.  , 2.34],\n",
       "       [1.  , 2.71]])"
      ]
     },
     "execution_count": 59,
     "metadata": {},
     "output_type": "execute_result"
    }
   ],
   "source": [
    "X_b"
   ]
  },
  {
   "cell_type": "code",
   "execution_count": 60,
   "id": "dbd50fec",
   "metadata": {},
   "outputs": [
    {
     "data": {
      "text/plain": [
       "array([ 1.7 ,  7.8 ,  2.05, 12.3 ,  9.35,  2.8 ,  2.4 ,  2.4 , 14.4 ,\n",
       "        9.59,  3.  ,  1.5 , 13.6 ,  3.1 ,  2.  ,  6.8 ,  1.2 ,  2.2 ,\n",
       "        2.6 ,  5.4 ,  3.9 ,  5.9 , 10.9 , 17.8 ,  1.7 ,  3.2 , 14.3 ])"
      ]
     },
     "execution_count": 60,
     "metadata": {},
     "output_type": "execute_result"
    }
   ],
   "source": [
    "y"
   ]
  },
  {
   "cell_type": "code",
   "execution_count": 63,
   "id": "e058f6be",
   "metadata": {},
   "outputs": [
    {
     "data": {
      "text/plain": [
       "array([ 9, 91])"
      ]
     },
     "execution_count": 63,
     "metadata": {},
     "output_type": "execute_result"
    }
   ],
   "source": [
    "theta = np.random.randint(100, size = (2,))\n",
    "theta"
   ]
  },
  {
   "cell_type": "code",
   "execution_count": 64,
   "id": "f4715309",
   "metadata": {},
   "outputs": [],
   "source": [
    "learning_rate = 0.1\n",
    "n_iteration = 10000 # n_iteration means giving 1000 chances to success rate:\n",
    "n = 27\n",
    "for iteration in range(n_iteration):\n",
    "    gradinent_of_costfunction = 2/n * X_b.T.dot(X_b.dot(theta) - y)\n",
    "    theta = theta - learning_rate * gradinent_of_costfunction"
   ]
  },
  {
   "cell_type": "code",
   "execution_count": 65,
   "id": "0ac70a47",
   "metadata": {},
   "outputs": [
    {
     "data": {
      "text/plain": [
       "array([-4.54479767,  4.7411007 ])"
      ]
     },
     "execution_count": 65,
     "metadata": {},
     "output_type": "execute_result"
    }
   ],
   "source": [
    "theta"
   ]
  },
  {
   "cell_type": "code",
   "execution_count": 66,
   "id": "f0d3b0ee",
   "metadata": {},
   "outputs": [
    {
     "data": {
      "text/plain": [
       "array([ 2.18756532,  4.27364963,  2.47203136, 10.34225852,  5.93303487,\n",
       "        4.74775969,  1.14452317,  4.74775969, 14.84630418,  9.5836824 ,\n",
       "        5.83821285,  4.17882761,  5.79080185,  1.76086626,  5.79080185,\n",
       "        5.98044588,  6.07526789,  3.13578546,  1.71345525,  4.22623862,\n",
       "        4.22623862,  8.25617421, 12.52316484, 17.26426553,  1.99792129,\n",
       "        6.54937796,  8.30358522])"
      ]
     },
     "execution_count": 66,
     "metadata": {},
     "output_type": "execute_result"
    }
   ],
   "source": [
    "y_pred_gd = X_b.dot(theta)\n",
    "y_pred_gd"
   ]
  },
  {
   "cell_type": "code",
   "execution_count": 68,
   "id": "4724bb70",
   "metadata": {},
   "outputs": [
    {
     "data": {
      "image/png": "[encoded data removed]",
      "text/plain": [
       "<Figure size 720x432 with 1 Axes>"
      ]
     },
     "metadata": {
      "needs_background": "light"
     },
     "output_type": "display_data"
    }
   ],
   "source": [
    "plt.figure(figsize=(10,6))\n",
    "plt.plot(X, y_pred_gd, \"r-\")\n",
    "plt.plot(X, y, \"g.\")\n",
    "plt.axis([1,5,0,20])\n",
    "plt.title(\"Linear Regression Prediction for Hourly Wages using Gradient descent\")\n",
    "plt.xlabel(\"Big Mac Price($)(x)\")\n",
    "plt.ylabel(\"Hourly Wages($)(y)\")\n",
    "plt.show()"
   ]
  },
  {
   "cell_type": "code",
   "execution_count": null,
   "id": "a37ca8fc",
   "metadata": {},
   "outputs": [],
   "source": []
  }
 ],
 "metadata": {
  "kernelspec": {
   "display_name": "Python 3 (ipykernel)",
   "language": "python",
   "name": "python3"
  },
  "language_info": {
   "codemirror_mode": {
    "name": "ipython",
    "version": 3
   },
   "file_extension": ".py",
   "mimetype": "text/x-python",
   "name": "python",
   "nbconvert_exporter": "python",
   "pygments_lexer": "ipython3",
   "version": "3.9.7"
  }
 },
 "nbformat": 4,
 "nbformat_minor": 5
}
