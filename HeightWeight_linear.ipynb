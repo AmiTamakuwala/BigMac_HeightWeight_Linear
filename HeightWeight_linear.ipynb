{
 "cells": [
  {
   "cell_type": "markdown",
   "id": "084f65a5",
   "metadata": {},
   "source": [
    "\n",
    "# ----------  Height_Weight_Linear_Regression  ---------"
   ]
  },
  {
   "cell_type": "code",
   "execution_count": 2,
   "id": "ee5af3cb",
   "metadata": {},
   "outputs": [],
   "source": [
    "import pandas as pd\n",
    "import numpy as np\n"
   ]
  },
  {
   "cell_type": "code",
   "execution_count": 3,
   "id": "487ce576",
   "metadata": {},
   "outputs": [],
   "source": [
    "import matplotlib.pyplot as plt"
   ]
  },
  {
   "cell_type": "code",
   "execution_count": 4,
   "id": "ecc52a45",
   "metadata": {},
   "outputs": [],
   "source": [
    "import os"
   ]
  },
  {
   "cell_type": "code",
   "execution_count": 5,
   "id": "c4e09209",
   "metadata": {},
   "outputs": [],
   "source": [
    "df = pd.read_csv(\"HeightWeight.csv\")"
   ]
  },
  {
   "cell_type": "code",
   "execution_count": 6,
   "id": "5172bc9a",
   "metadata": {},
   "outputs": [
    {
     "data": {
      "text/html": [
       "<div>\n",
       "<style scoped>\n",
       "    .dataframe tbody tr th:only-of-type {\n",
       "        vertical-align: middle;\n",
       "    }\n",
       "\n",
       "    .dataframe tbody tr th {\n",
       "        vertical-align: top;\n",
       "    }\n",
       "\n",
       "    .dataframe thead th {\n",
       "        text-align: right;\n",
       "    }\n",
       "</style>\n",
       "<table border=\"1\" class=\"dataframe\">\n",
       "  <thead>\n",
       "    <tr style=\"text-align: right;\">\n",
       "      <th></th>\n",
       "      <th>Height M (x)</th>\n",
       "      <th>Weight kg (y) Observed</th>\n",
       "    </tr>\n",
       "  </thead>\n",
       "  <tbody>\n",
       "    <tr>\n",
       "      <th>0</th>\n",
       "      <td>1.60020</td>\n",
       "      <td>49.441572</td>\n",
       "    </tr>\n",
       "    <tr>\n",
       "      <th>1</th>\n",
       "      <td>1.65100</td>\n",
       "      <td>62.595751</td>\n",
       "    </tr>\n",
       "    <tr>\n",
       "      <th>2</th>\n",
       "      <td>1.65100</td>\n",
       "      <td>75.749931</td>\n",
       "    </tr>\n",
       "    <tr>\n",
       "      <th>3</th>\n",
       "      <td>1.53035</td>\n",
       "      <td>48.987979</td>\n",
       "    </tr>\n",
       "    <tr>\n",
       "      <th>4</th>\n",
       "      <td>1.45415</td>\n",
       "      <td>43.091278</td>\n",
       "    </tr>\n",
       "    <tr>\n",
       "      <th>...</th>\n",
       "      <td>...</td>\n",
       "      <td>...</td>\n",
       "    </tr>\n",
       "    <tr>\n",
       "      <th>83</th>\n",
       "      <td>1.49225</td>\n",
       "      <td>39.008946</td>\n",
       "    </tr>\n",
       "    <tr>\n",
       "      <th>84</th>\n",
       "      <td>1.60020</td>\n",
       "      <td>41.276908</td>\n",
       "    </tr>\n",
       "    <tr>\n",
       "      <th>85</th>\n",
       "      <td>1.42240</td>\n",
       "      <td>38.101762</td>\n",
       "    </tr>\n",
       "    <tr>\n",
       "      <th>86</th>\n",
       "      <td>1.39700</td>\n",
       "      <td>30.163895</td>\n",
       "    </tr>\n",
       "    <tr>\n",
       "      <th>87</th>\n",
       "      <td>1.44780</td>\n",
       "      <td>38.555354</td>\n",
       "    </tr>\n",
       "  </tbody>\n",
       "</table>\n",
       "<p>88 rows × 2 columns</p>\n",
       "</div>"
      ],
      "text/plain": [
       "    Height M (x)  Weight kg (y) Observed\n",
       "0        1.60020               49.441572\n",
       "1        1.65100               62.595751\n",
       "2        1.65100               75.749931\n",
       "3        1.53035               48.987979\n",
       "4        1.45415               43.091278\n",
       "..           ...                     ...\n",
       "83       1.49225               39.008946\n",
       "84       1.60020               41.276908\n",
       "85       1.42240               38.101762\n",
       "86       1.39700               30.163895\n",
       "87       1.44780               38.555354\n",
       "\n",
       "[88 rows x 2 columns]"
      ]
     },
     "execution_count": 6,
     "metadata": {},
     "output_type": "execute_result"
    }
   ],
   "source": [
    "df"
   ]
  },
  {
   "cell_type": "markdown",
   "id": "e5902c54",
   "metadata": {},
   "source": [
    "## Normal Equation Implementation for Regression."
   ]
  },
  {
   "cell_type": "markdown",
   "id": "8cd6d756",
   "metadata": {},
   "source": [
    "### w = (XTX)−1*(XTy)"
   ]
  },
  {
   "cell_type": "code",
   "execution_count": 7,
   "id": "71ccedaf",
   "metadata": {},
   "outputs": [
    {
     "data": {
      "text/plain": [
       "Index(['Height M (x)', 'Weight kg (y) Observed'], dtype='object')"
      ]
     },
     "execution_count": 7,
     "metadata": {},
     "output_type": "execute_result"
    }
   ],
   "source": [
    "df.columns"
   ]
  },
  {
   "cell_type": "code",
   "execution_count": 8,
   "id": "209eae07",
   "metadata": {},
   "outputs": [
    {
     "data": {
      "text/plain": [
       "array([1.6002 , 1.651  , 1.651  , 1.53035, 1.45415, 1.60655, 1.5621 ,\n",
       "       1.4986 , 1.524  , 1.47955, 1.4732 , 1.5494 , 1.51765, 1.5367 ,\n",
       "       1.4605 , 1.524  , 1.4605 , 1.58115, 1.524  , 1.4986 , 1.4859 ,\n",
       "       1.47955, 1.5875 , 1.55575, 1.58115, 1.56845, 1.4986 , 1.524  ,\n",
       "       1.44145, 1.4859 , 1.4605 , 1.4986 , 1.55575, 1.53035, 1.45415,\n",
       "       1.63195, 1.41605, 1.3843 , 1.45415, 1.50495, 1.4859 , 1.4478 ,\n",
       "       1.3335 , 1.36525, 1.5494 , 1.4478 , 1.4732 , 1.5875 , 1.44145,\n",
       "       1.6002 , 1.58115, 1.41605, 1.5494 , 1.64465, 1.49225, 1.5494 ,\n",
       "       1.4224 , 1.61925, 1.6637 , 1.4732 , 1.49225, 1.53035, 1.5875 ,\n",
       "       1.5748 , 1.42875, 1.60655, 1.5494 , 1.4732 , 1.4986 , 1.6637 ,\n",
       "       1.4224 , 1.50495, 1.3462 , 1.4224 , 1.4732 , 1.51765, 1.4605 ,\n",
       "       1.4605 , 1.4224 , 1.4732 , 1.46685, 1.5875 , 1.49225, 1.49225,\n",
       "       1.6002 , 1.4224 , 1.397  , 1.4478 ])"
      ]
     },
     "execution_count": 8,
     "metadata": {},
     "output_type": "execute_result"
    }
   ],
   "source": [
    "# X values in row form ,\n",
    "# will truns it into 'array' form:\n",
    "X = np.array(df['Height M (x)'])\n",
    "X"
   ]
  },
  {
   "cell_type": "code",
   "execution_count": 9,
   "id": "8c29d489",
   "metadata": {},
   "outputs": [
    {
     "data": {
      "text/plain": [
       "((88,), 1)"
      ]
     },
     "execution_count": 9,
     "metadata": {},
     "output_type": "execute_result"
    }
   ],
   "source": [
    "X.shape, X.ndim"
   ]
  },
  {
   "cell_type": "code",
   "execution_count": 10,
   "id": "c9d1f4f2",
   "metadata": {},
   "outputs": [
    {
     "data": {
      "text/plain": [
       "array([49.4415716, 62.5957512, 75.7499308, 48.9879792, 43.091278 ,\n",
       "       52.6167184, 47.9673963, 45.5860362, 47.8539982, 44.4520552,\n",
       "       46.0396286, 53.0703108, 65.8842961, 46.0396286, 43.5448704,\n",
       "       62.368955 , 45.8128324, 74.3891536, 55.565069 , 46.1530267,\n",
       "       47.8539982, 42.1840932, 45.8128324, 44.6788514, 42.6376856,\n",
       "       43.5448704, 37.3079749, 39.3491407, 39.0089464, 40.5965198,\n",
       "       38.1017616, 40.3697236, 37.1945768, 44.1118609, 33.4524395,\n",
       "       47.1736096, 30.0504965, 32.0916623, 34.8132167, 35.9471977,\n",
       "       39.9161312, 32.6586528, 30.5040889, 29.483506 , 44.6788514,\n",
       "       34.9266148, 54.5444861, 52.5033203, 51.029145 , 51.7095336,\n",
       "       60.3277892, 47.8539982, 69.9666277, 77.3375042, 58.2866234,\n",
       "       45.8128324, 47.627202 , 53.0703108, 80.7394472, 45.2458419,\n",
       "       50.4621545, 52.9569127, 61.234974 , 59.8741968, 47.9673963,\n",
       "       63.9565284, 46.7200172, 41.2769084, 45.35924  , 57.2660405,\n",
       "       38.7821502, 46.9468134, 29.2567098, 35.8337996, 34.9266148,\n",
       "       38.555354 , 40.3697236, 36.7409844, 37.1945768, 39.4625388,\n",
       "       36.7409844, 44.4520552, 41.6171027, 39.0089464, 41.2769084,\n",
       "       38.1017616, 30.1638946, 38.555354 ])"
      ]
     },
     "execution_count": 10,
     "metadata": {},
     "output_type": "execute_result"
    }
   ],
   "source": [
    "# same with y value:\n",
    "# y values turns from rows format to \"array\" form:\n",
    "\n",
    "y = np.array(df['Weight kg (y) Observed'])\n",
    "y"
   ]
  },
  {
   "cell_type": "code",
   "execution_count": 11,
   "id": "d7457962",
   "metadata": {},
   "outputs": [
    {
     "data": {
      "text/plain": [
       "((88,), 1)"
      ]
     },
     "execution_count": 11,
     "metadata": {},
     "output_type": "execute_result"
    }
   ],
   "source": [
    "y.shape, y.ndim"
   ]
  },
  {
   "cell_type": "code",
   "execution_count": 12,
   "id": "87c266ae",
   "metadata": {},
   "outputs": [
    {
     "data": {
      "text/plain": [
       "array([[1.     , 1.6002 ],\n",
       "       [1.     , 1.651  ],\n",
       "       [1.     , 1.651  ],\n",
       "       [1.     , 1.53035],\n",
       "       [1.     , 1.45415],\n",
       "       [1.     , 1.60655],\n",
       "       [1.     , 1.5621 ],\n",
       "       [1.     , 1.4986 ],\n",
       "       [1.     , 1.524  ],\n",
       "       [1.     , 1.47955],\n",
       "       [1.     , 1.4732 ],\n",
       "       [1.     , 1.5494 ],\n",
       "       [1.     , 1.51765],\n",
       "       [1.     , 1.5367 ],\n",
       "       [1.     , 1.4605 ],\n",
       "       [1.     , 1.524  ],\n",
       "       [1.     , 1.4605 ],\n",
       "       [1.     , 1.58115],\n",
       "       [1.     , 1.524  ],\n",
       "       [1.     , 1.4986 ],\n",
       "       [1.     , 1.4859 ],\n",
       "       [1.     , 1.47955],\n",
       "       [1.     , 1.5875 ],\n",
       "       [1.     , 1.55575],\n",
       "       [1.     , 1.58115],\n",
       "       [1.     , 1.56845],\n",
       "       [1.     , 1.4986 ],\n",
       "       [1.     , 1.524  ],\n",
       "       [1.     , 1.44145],\n",
       "       [1.     , 1.4859 ],\n",
       "       [1.     , 1.4605 ],\n",
       "       [1.     , 1.4986 ],\n",
       "       [1.     , 1.55575],\n",
       "       [1.     , 1.53035],\n",
       "       [1.     , 1.45415],\n",
       "       [1.     , 1.63195],\n",
       "       [1.     , 1.41605],\n",
       "       [1.     , 1.3843 ],\n",
       "       [1.     , 1.45415],\n",
       "       [1.     , 1.50495],\n",
       "       [1.     , 1.4859 ],\n",
       "       [1.     , 1.4478 ],\n",
       "       [1.     , 1.3335 ],\n",
       "       [1.     , 1.36525],\n",
       "       [1.     , 1.5494 ],\n",
       "       [1.     , 1.4478 ],\n",
       "       [1.     , 1.4732 ],\n",
       "       [1.     , 1.5875 ],\n",
       "       [1.     , 1.44145],\n",
       "       [1.     , 1.6002 ],\n",
       "       [1.     , 1.58115],\n",
       "       [1.     , 1.41605],\n",
       "       [1.     , 1.5494 ],\n",
       "       [1.     , 1.64465],\n",
       "       [1.     , 1.49225],\n",
       "       [1.     , 1.5494 ],\n",
       "       [1.     , 1.4224 ],\n",
       "       [1.     , 1.61925],\n",
       "       [1.     , 1.6637 ],\n",
       "       [1.     , 1.4732 ],\n",
       "       [1.     , 1.49225],\n",
       "       [1.     , 1.53035],\n",
       "       [1.     , 1.5875 ],\n",
       "       [1.     , 1.5748 ],\n",
       "       [1.     , 1.42875],\n",
       "       [1.     , 1.60655],\n",
       "       [1.     , 1.5494 ],\n",
       "       [1.     , 1.4732 ],\n",
       "       [1.     , 1.4986 ],\n",
       "       [1.     , 1.6637 ],\n",
       "       [1.     , 1.4224 ],\n",
       "       [1.     , 1.50495],\n",
       "       [1.     , 1.3462 ],\n",
       "       [1.     , 1.4224 ],\n",
       "       [1.     , 1.4732 ],\n",
       "       [1.     , 1.51765],\n",
       "       [1.     , 1.4605 ],\n",
       "       [1.     , 1.4605 ],\n",
       "       [1.     , 1.4224 ],\n",
       "       [1.     , 1.4732 ],\n",
       "       [1.     , 1.46685],\n",
       "       [1.     , 1.5875 ],\n",
       "       [1.     , 1.49225],\n",
       "       [1.     , 1.49225],\n",
       "       [1.     , 1.6002 ],\n",
       "       [1.     , 1.4224 ],\n",
       "       [1.     , 1.397  ],\n",
       "       [1.     , 1.4478 ]])"
      ]
     },
     "execution_count": 12,
     "metadata": {},
     "output_type": "execute_result"
    }
   ],
   "source": [
    "# here x have 1 dimension which will not work, gives error:\n",
    "# so, will add 1 more value:\n",
    "# will transform it with 2 dimentions, means add one additional value\n",
    "# use \"np.c_\"\n",
    "\n",
    "X_b = np.c_[np.ones((88,1)), X]\n",
    "X_b"
   ]
  },
  {
   "cell_type": "code",
   "execution_count": 13,
   "id": "e1248169",
   "metadata": {},
   "outputs": [
    {
     "data": {
      "text/plain": [
       "((88, 2), 2)"
      ]
     },
     "execution_count": 13,
     "metadata": {},
     "output_type": "execute_result"
    }
   ],
   "source": [
    "X_b.shape, X_b.ndim"
   ]
  },
  {
   "cell_type": "code",
   "execution_count": 14,
   "id": "caf3e6d1",
   "metadata": {},
   "outputs": [],
   "source": [
    "# so, now will use Normal equation formula.\n",
    "theta_best = np.linalg.inv(X_b.T.dot(X_b)).dot(X_b.T).dot(y)"
   ]
  },
  {
   "cell_type": "code",
   "execution_count": 15,
   "id": "1a5a4b42",
   "metadata": {},
   "outputs": [
    {
     "data": {
      "text/plain": [
       "(2,)"
      ]
     },
     "execution_count": 15,
     "metadata": {},
     "output_type": "execute_result"
    }
   ],
   "source": [
    "theta_best.shape"
   ]
  },
  {
   "cell_type": "code",
   "execution_count": 16,
   "id": "fac21038",
   "metadata": {},
   "outputs": [],
   "source": [
    "y_predict = X_b.dot(theta_best)"
   ]
  },
  {
   "cell_type": "code",
   "execution_count": 17,
   "id": "8d28ea1e",
   "metadata": {},
   "outputs": [
    {
     "data": {
      "text/plain": [
       "array([56.10265546, 61.51308682, 61.51308682, 48.66331233, 40.54766528,\n",
       "       56.77895938, 52.04483193, 45.28179273, 47.98700841, 43.25288096,\n",
       "       42.57657704, 50.69222409, 47.31070449, 49.33961625, 41.2239692 ,\n",
       "       47.98700841, 41.2239692 , 54.07374369, 47.98700841, 45.28179273,\n",
       "       43.92918489, 43.25288096, 54.75004761, 51.36852801, 54.07374369,\n",
       "       52.72113585, 45.28179273, 47.98700841, 39.19505744, 43.92918489,\n",
       "       41.2239692 , 45.28179273, 51.36852801, 48.66331233, 40.54766528,\n",
       "       59.48417506, 36.48984176, 33.10832216, 40.54766528, 45.95809665,\n",
       "       43.92918489, 39.87136136, 27.69789079, 31.07941039, 50.69222409,\n",
       "       39.87136136, 42.57657704, 54.75004761, 39.19505744, 56.10265546,\n",
       "       54.07374369, 36.48984176, 50.69222409, 60.8367829 , 44.60548881,\n",
       "       50.69222409, 37.16614568, 58.13156722, 62.86569466, 42.57657704,\n",
       "       44.60548881, 48.66331233, 54.75004761, 53.39743977, 37.8424496 ,\n",
       "       56.77895938, 50.69222409, 42.57657704, 45.28179273, 62.86569466,\n",
       "       37.16614568, 45.95809665, 29.05049863, 37.16614568, 42.57657704,\n",
       "       47.31070449, 41.2239692 , 41.2239692 , 37.16614568, 42.57657704,\n",
       "       41.90027312, 54.75004761, 44.60548881, 44.60548881, 56.10265546,\n",
       "       37.16614568, 34.46093   , 39.87136136])"
      ]
     },
     "execution_count": 17,
     "metadata": {},
     "output_type": "execute_result"
    }
   ],
   "source": [
    "y_predict"
   ]
  },
  {
   "cell_type": "code",
   "execution_count": 18,
   "id": "09132b99",
   "metadata": {},
   "outputs": [],
   "source": [
    "# adding column of fitted/predicted value called y-hat:\n",
    "df[\"Fitted/Predicted value of Weight(kg)\"] = y_predict"
   ]
  },
  {
   "cell_type": "code",
   "execution_count": 19,
   "id": "eb502e43",
   "metadata": {},
   "outputs": [
    {
     "data": {
      "text/html": [
       "<div>\n",
       "<style scoped>\n",
       "    .dataframe tbody tr th:only-of-type {\n",
       "        vertical-align: middle;\n",
       "    }\n",
       "\n",
       "    .dataframe tbody tr th {\n",
       "        vertical-align: top;\n",
       "    }\n",
       "\n",
       "    .dataframe thead th {\n",
       "        text-align: right;\n",
       "    }\n",
       "</style>\n",
       "<table border=\"1\" class=\"dataframe\">\n",
       "  <thead>\n",
       "    <tr style=\"text-align: right;\">\n",
       "      <th></th>\n",
       "      <th>Height M (x)</th>\n",
       "      <th>Weight kg (y) Observed</th>\n",
       "      <th>Fitted/Predicted value of Weight(kg)</th>\n",
       "    </tr>\n",
       "  </thead>\n",
       "  <tbody>\n",
       "    <tr>\n",
       "      <th>0</th>\n",
       "      <td>1.60020</td>\n",
       "      <td>49.441572</td>\n",
       "      <td>56.102655</td>\n",
       "    </tr>\n",
       "    <tr>\n",
       "      <th>1</th>\n",
       "      <td>1.65100</td>\n",
       "      <td>62.595751</td>\n",
       "      <td>61.513087</td>\n",
       "    </tr>\n",
       "    <tr>\n",
       "      <th>2</th>\n",
       "      <td>1.65100</td>\n",
       "      <td>75.749931</td>\n",
       "      <td>61.513087</td>\n",
       "    </tr>\n",
       "    <tr>\n",
       "      <th>3</th>\n",
       "      <td>1.53035</td>\n",
       "      <td>48.987979</td>\n",
       "      <td>48.663312</td>\n",
       "    </tr>\n",
       "    <tr>\n",
       "      <th>4</th>\n",
       "      <td>1.45415</td>\n",
       "      <td>43.091278</td>\n",
       "      <td>40.547665</td>\n",
       "    </tr>\n",
       "    <tr>\n",
       "      <th>...</th>\n",
       "      <td>...</td>\n",
       "      <td>...</td>\n",
       "      <td>...</td>\n",
       "    </tr>\n",
       "    <tr>\n",
       "      <th>83</th>\n",
       "      <td>1.49225</td>\n",
       "      <td>39.008946</td>\n",
       "      <td>44.605489</td>\n",
       "    </tr>\n",
       "    <tr>\n",
       "      <th>84</th>\n",
       "      <td>1.60020</td>\n",
       "      <td>41.276908</td>\n",
       "      <td>56.102655</td>\n",
       "    </tr>\n",
       "    <tr>\n",
       "      <th>85</th>\n",
       "      <td>1.42240</td>\n",
       "      <td>38.101762</td>\n",
       "      <td>37.166146</td>\n",
       "    </tr>\n",
       "    <tr>\n",
       "      <th>86</th>\n",
       "      <td>1.39700</td>\n",
       "      <td>30.163895</td>\n",
       "      <td>34.460930</td>\n",
       "    </tr>\n",
       "    <tr>\n",
       "      <th>87</th>\n",
       "      <td>1.44780</td>\n",
       "      <td>38.555354</td>\n",
       "      <td>39.871361</td>\n",
       "    </tr>\n",
       "  </tbody>\n",
       "</table>\n",
       "<p>88 rows × 3 columns</p>\n",
       "</div>"
      ],
      "text/plain": [
       "    Height M (x)  Weight kg (y) Observed  Fitted/Predicted value of Weight(kg)\n",
       "0        1.60020               49.441572                             56.102655\n",
       "1        1.65100               62.595751                             61.513087\n",
       "2        1.65100               75.749931                             61.513087\n",
       "3        1.53035               48.987979                             48.663312\n",
       "4        1.45415               43.091278                             40.547665\n",
       "..           ...                     ...                                   ...\n",
       "83       1.49225               39.008946                             44.605489\n",
       "84       1.60020               41.276908                             56.102655\n",
       "85       1.42240               38.101762                             37.166146\n",
       "86       1.39700               30.163895                             34.460930\n",
       "87       1.44780               38.555354                             39.871361\n",
       "\n",
       "[88 rows x 3 columns]"
      ]
     },
     "execution_count": 19,
     "metadata": {},
     "output_type": "execute_result"
    }
   ],
   "source": [
    "df"
   ]
  },
  {
   "cell_type": "code",
   "execution_count": 20,
   "id": "2bb99707",
   "metadata": {},
   "outputs": [
    {
     "data": {
      "image/png": "[encoded data removed]",
      "text/plain": [
       "<Figure size 864x432 with 1 Axes>"
      ]
     },
     "metadata": {
      "needs_background": "light"
     },
     "output_type": "display_data"
    }
   ],
   "source": [
    "plt.figure(figsize=(12,6))\n",
    "plt.plot(X, y_predict, \"r-\") # 'r-' for red linear regression line.\n",
    "plt.plot(X,y,\"b.\") # 'b.' for observed value's dot.\n",
    "plt.axis([1.3,1.7,0,90]) # (1.3,1.7)- for x-axis distance (0,90) for y-axis distance.\n",
    "plt.title(\"Linear Regression Prediction for Weight using Normal Equation form\")\n",
    "plt.xlabel(\"Height in m\")\n",
    "plt.ylabel(\"Weight in kgs\")\n",
    "plt.show()"
   ]
  },
  {
   "cell_type": "markdown",
   "id": "bd421d87",
   "metadata": {},
   "source": [
    "## Linear Regression Implementation Using 'scikit-learn' library"
   ]
  },
  {
   "cell_type": "code",
   "execution_count": 30,
   "id": "1aa1e4a3",
   "metadata": {},
   "outputs": [],
   "source": [
    "from sklearn import linear_model\n",
    "lin_reg = linear_model.LinearRegression()"
   ]
  },
  {
   "cell_type": "code",
   "execution_count": 32,
   "id": "60e1dec0",
   "metadata": {},
   "outputs": [
    {
     "data": {
      "text/plain": [
       "LinearRegression()"
      ]
     },
     "execution_count": 32,
     "metadata": {},
     "output_type": "execute_result"
    }
   ],
   "source": [
    "lin_reg.fit(X_b, y)"
   ]
  },
  {
   "cell_type": "code",
   "execution_count": 33,
   "id": "a67555ab",
   "metadata": {},
   "outputs": [
    {
     "data": {
      "text/plain": [
       "(-114.32593252988184, array([  0.        , 106.50455442]))"
      ]
     },
     "execution_count": 33,
     "metadata": {},
     "output_type": "execute_result"
    }
   ],
   "source": [
    "# now compute linear regression- intercept & coefficient value:\n",
    "lin_reg.intercept_, lin_reg.coef_"
   ]
  },
  {
   "cell_type": "code",
   "execution_count": 37,
   "id": "eb8bdfbf",
   "metadata": {},
   "outputs": [
    {
     "data": {
      "text/plain": [
       "array([56.10265546, 61.51308682, 61.51308682, 48.66331233, 40.54766528,\n",
       "       56.77895938, 52.04483193, 45.28179273, 47.98700841, 43.25288096,\n",
       "       42.57657704, 50.69222409, 47.31070449, 49.33961625, 41.2239692 ,\n",
       "       47.98700841, 41.2239692 , 54.07374369, 47.98700841, 45.28179273,\n",
       "       43.92918489, 43.25288096, 54.75004761, 51.36852801, 54.07374369,\n",
       "       52.72113585, 45.28179273, 47.98700841, 39.19505744, 43.92918489,\n",
       "       41.2239692 , 45.28179273, 51.36852801, 48.66331233, 40.54766528,\n",
       "       59.48417506, 36.48984176, 33.10832216, 40.54766528, 45.95809665,\n",
       "       43.92918489, 39.87136136, 27.69789079, 31.07941039, 50.69222409,\n",
       "       39.87136136, 42.57657704, 54.75004761, 39.19505744, 56.10265546,\n",
       "       54.07374369, 36.48984176, 50.69222409, 60.8367829 , 44.60548881,\n",
       "       50.69222409, 37.16614568, 58.13156722, 62.86569466, 42.57657704,\n",
       "       44.60548881, 48.66331233, 54.75004761, 53.39743977, 37.8424496 ,\n",
       "       56.77895938, 50.69222409, 42.57657704, 45.28179273, 62.86569466,\n",
       "       37.16614568, 45.95809665, 29.05049863, 37.16614568, 42.57657704,\n",
       "       47.31070449, 41.2239692 , 41.2239692 , 37.16614568, 42.57657704,\n",
       "       41.90027312, 54.75004761, 44.60548881, 44.60548881, 56.10265546,\n",
       "       37.16614568, 34.46093   , 39.87136136])"
      ]
     },
     "execution_count": 37,
     "metadata": {},
     "output_type": "execute_result"
    }
   ],
   "source": [
    "# calcultae predict values (y-hat):\n",
    "y_pred = lin_reg.predict(X_b)\n",
    "y_pred"
   ]
  },
  {
   "cell_type": "code",
   "execution_count": 35,
   "id": "f5a70c5b",
   "metadata": {},
   "outputs": [
    {
     "data": {
      "text/plain": [
       "array([56.10265546, 61.51308682, 61.51308682, 48.66331233, 40.54766528,\n",
       "       56.77895938, 52.04483193, 45.28179273, 47.98700841, 43.25288096,\n",
       "       42.57657704, 50.69222409, 47.31070449, 49.33961625, 41.2239692 ,\n",
       "       47.98700841, 41.2239692 , 54.07374369, 47.98700841, 45.28179273,\n",
       "       43.92918489, 43.25288096, 54.75004761, 51.36852801, 54.07374369,\n",
       "       52.72113585, 45.28179273, 47.98700841, 39.19505744, 43.92918489,\n",
       "       41.2239692 , 45.28179273, 51.36852801, 48.66331233, 40.54766528,\n",
       "       59.48417506, 36.48984176, 33.10832216, 40.54766528, 45.95809665,\n",
       "       43.92918489, 39.87136136, 27.69789079, 31.07941039, 50.69222409,\n",
       "       39.87136136, 42.57657704, 54.75004761, 39.19505744, 56.10265546,\n",
       "       54.07374369, 36.48984176, 50.69222409, 60.8367829 , 44.60548881,\n",
       "       50.69222409, 37.16614568, 58.13156722, 62.86569466, 42.57657704,\n",
       "       44.60548881, 48.66331233, 54.75004761, 53.39743977, 37.8424496 ,\n",
       "       56.77895938, 50.69222409, 42.57657704, 45.28179273, 62.86569466,\n",
       "       37.16614568, 45.95809665, 29.05049863, 37.16614568, 42.57657704,\n",
       "       47.31070449, 41.2239692 , 41.2239692 , 37.16614568, 42.57657704,\n",
       "       41.90027312, 54.75004761, 44.60548881, 44.60548881, 56.10265546,\n",
       "       37.16614568, 34.46093   , 39.87136136])"
      ]
     },
     "execution_count": 35,
     "metadata": {},
     "output_type": "execute_result"
    }
   ],
   "source": []
  },
  {
   "cell_type": "code",
   "execution_count": 39,
   "id": "082fa4b6",
   "metadata": {},
   "outputs": [
    {
     "data": {
      "image/png": "[encoded data removed]",
      "text/plain": [
       "<Figure size 720x432 with 1 Axes>"
      ]
     },
     "metadata": {
      "needs_background": "light"
     },
     "output_type": "display_data"
    }
   ],
   "source": [
    "# create a plot:\n",
    "plt.figure(figsize=(10,6))\n",
    "plt.plot(X, y_pred, \"b-\")\n",
    "plt.plot(X, y, \"r.\")\n",
    "plt.axis([1.3,1.7,0,90])\n",
    "plt.title(\"Linear Regression Prediction for Weight using Scikit-learn Library\")\n",
    "plt.xlabel(\"Height in m\")\n",
    "plt.ylabel(\"Weight in kgs\")\n",
    "plt.show()"
   ]
  },
  {
   "cell_type": "code",
   "execution_count": 41,
   "id": "40b7c82b",
   "metadata": {},
   "outputs": [],
   "source": [
    "# Metrics Calculation:\n",
    "# import R2 score, MAE (mean absoulte error), MSE (mean squared error)\n",
    "\n",
    "from sklearn.metrics import r2_score, mean_absolute_error, mean_squared_error"
   ]
  },
  {
   "cell_type": "code",
   "execution_count": 42,
   "id": "cc50ad77",
   "metadata": {},
   "outputs": [
    {
     "data": {
      "text/plain": [
       "0.49716395548489534"
      ]
     },
     "execution_count": 42,
     "metadata": {},
     "output_type": "execute_result"
    }
   ],
   "source": [
    "r2_score(y, y_pred)"
   ]
  },
  {
   "cell_type": "code",
   "execution_count": 43,
   "id": "03bf94e3",
   "metadata": {},
   "outputs": [
    {
     "data": {
      "text/plain": [
       "6.069108776358974"
      ]
     },
     "execution_count": 43,
     "metadata": {},
     "output_type": "execute_result"
    }
   ],
   "source": [
    "mean_absolute_error(y, y_pred)"
   ]
  },
  {
   "cell_type": "code",
   "execution_count": 44,
   "id": "bb1ef620",
   "metadata": {},
   "outputs": [
    {
     "data": {
      "text/plain": [
       "60.936774904127475"
      ]
     },
     "execution_count": 44,
     "metadata": {},
     "output_type": "execute_result"
    }
   ],
   "source": [
    "mean_squared_error(y, y_pred)"
   ]
  },
  {
   "cell_type": "markdown",
   "id": "62144cfa",
   "metadata": {},
   "source": [
    "## Root Mean Squared Error: [RMSE]"
   ]
  },
  {
   "cell_type": "markdown",
   "id": "eb698481",
   "metadata": {},
   "source": [
    "# check formula in theory part:\n",
    "\n",
    "#### \\mathrm{RMSD} = \\sqrt{\\frac{\\sum_{i=1}^{N}\\left(x_{i}-\\hat{x}_{i}\\right)^{2}}{N}}"
   ]
  },
  {
   "cell_type": "code",
   "execution_count": 46,
   "id": "e9e0d25a",
   "metadata": {},
   "outputs": [],
   "source": [
    "# for RMSE:\n",
    "# import 'math'\n",
    "\n",
    "import math\n",
    "def root_mean_squared_error(y, y_pred):\n",
    "    mse = np.square(np.subtract(y, y_pred)).mean()\n",
    "    rmse = math.sqrt(mse)\n",
    "    return rmse"
   ]
  },
  {
   "cell_type": "code",
   "execution_count": 47,
   "id": "14379a24",
   "metadata": {},
   "outputs": [
    {
     "data": {
      "text/plain": [
       "7.80620105455448"
      ]
     },
     "execution_count": 47,
     "metadata": {},
     "output_type": "execute_result"
    }
   ],
   "source": [
    "root_mean_squared_error(y, y_pred)"
   ]
  },
  {
   "cell_type": "code",
   "execution_count": 61,
   "id": "f7a010e0",
   "metadata": {},
   "outputs": [
    {
     "data": {
      "text/plain": [
       "7.80620105455448"
      ]
     },
     "execution_count": 61,
     "metadata": {},
     "output_type": "execute_result"
    }
   ],
   "source": [
    "# or for root mean square error's value \n",
    "# use 'math.sqrt' function-one line func:\n",
    "math.sqrt(mean_squared_error(y,y_pred))"
   ]
  },
  {
   "cell_type": "markdown",
   "id": "44d754b2",
   "metadata": {},
   "source": [
    "## Gradient Descent Learning for linear regression"
   ]
  },
  {
   "cell_type": "markdown",
   "id": "33c5b95e",
   "metadata": {},
   "source": [
    "###### check formula in  theory part:\n",
    "# for finding out \"intercept \" & \"coefficient\":"
   ]
  },
  {
   "cell_type": "markdown",
   "id": "a318fca7",
   "metadata": {},
   "source": [
    "#### Theta_next = theta - learning_rate * gradient_of_costfunction"
   ]
  },
  {
   "cell_type": "code",
   "execution_count": 49,
   "id": "c5fb509a",
   "metadata": {},
   "outputs": [
    {
     "data": {
      "text/plain": [
       "array([[1.     , 1.6002 ],\n",
       "       [1.     , 1.651  ],\n",
       "       [1.     , 1.651  ],\n",
       "       [1.     , 1.53035],\n",
       "       [1.     , 1.45415],\n",
       "       [1.     , 1.60655],\n",
       "       [1.     , 1.5621 ],\n",
       "       [1.     , 1.4986 ],\n",
       "       [1.     , 1.524  ],\n",
       "       [1.     , 1.47955],\n",
       "       [1.     , 1.4732 ],\n",
       "       [1.     , 1.5494 ],\n",
       "       [1.     , 1.51765],\n",
       "       [1.     , 1.5367 ],\n",
       "       [1.     , 1.4605 ],\n",
       "       [1.     , 1.524  ],\n",
       "       [1.     , 1.4605 ],\n",
       "       [1.     , 1.58115],\n",
       "       [1.     , 1.524  ],\n",
       "       [1.     , 1.4986 ],\n",
       "       [1.     , 1.4859 ],\n",
       "       [1.     , 1.47955],\n",
       "       [1.     , 1.5875 ],\n",
       "       [1.     , 1.55575],\n",
       "       [1.     , 1.58115],\n",
       "       [1.     , 1.56845],\n",
       "       [1.     , 1.4986 ],\n",
       "       [1.     , 1.524  ],\n",
       "       [1.     , 1.44145],\n",
       "       [1.     , 1.4859 ],\n",
       "       [1.     , 1.4605 ],\n",
       "       [1.     , 1.4986 ],\n",
       "       [1.     , 1.55575],\n",
       "       [1.     , 1.53035],\n",
       "       [1.     , 1.45415],\n",
       "       [1.     , 1.63195],\n",
       "       [1.     , 1.41605],\n",
       "       [1.     , 1.3843 ],\n",
       "       [1.     , 1.45415],\n",
       "       [1.     , 1.50495],\n",
       "       [1.     , 1.4859 ],\n",
       "       [1.     , 1.4478 ],\n",
       "       [1.     , 1.3335 ],\n",
       "       [1.     , 1.36525],\n",
       "       [1.     , 1.5494 ],\n",
       "       [1.     , 1.4478 ],\n",
       "       [1.     , 1.4732 ],\n",
       "       [1.     , 1.5875 ],\n",
       "       [1.     , 1.44145],\n",
       "       [1.     , 1.6002 ],\n",
       "       [1.     , 1.58115],\n",
       "       [1.     , 1.41605],\n",
       "       [1.     , 1.5494 ],\n",
       "       [1.     , 1.64465],\n",
       "       [1.     , 1.49225],\n",
       "       [1.     , 1.5494 ],\n",
       "       [1.     , 1.4224 ],\n",
       "       [1.     , 1.61925],\n",
       "       [1.     , 1.6637 ],\n",
       "       [1.     , 1.4732 ],\n",
       "       [1.     , 1.49225],\n",
       "       [1.     , 1.53035],\n",
       "       [1.     , 1.5875 ],\n",
       "       [1.     , 1.5748 ],\n",
       "       [1.     , 1.42875],\n",
       "       [1.     , 1.60655],\n",
       "       [1.     , 1.5494 ],\n",
       "       [1.     , 1.4732 ],\n",
       "       [1.     , 1.4986 ],\n",
       "       [1.     , 1.6637 ],\n",
       "       [1.     , 1.4224 ],\n",
       "       [1.     , 1.50495],\n",
       "       [1.     , 1.3462 ],\n",
       "       [1.     , 1.4224 ],\n",
       "       [1.     , 1.4732 ],\n",
       "       [1.     , 1.51765],\n",
       "       [1.     , 1.4605 ],\n",
       "       [1.     , 1.4605 ],\n",
       "       [1.     , 1.4224 ],\n",
       "       [1.     , 1.4732 ],\n",
       "       [1.     , 1.46685],\n",
       "       [1.     , 1.5875 ],\n",
       "       [1.     , 1.49225],\n",
       "       [1.     , 1.49225],\n",
       "       [1.     , 1.6002 ],\n",
       "       [1.     , 1.4224 ],\n",
       "       [1.     , 1.397  ],\n",
       "       [1.     , 1.4478 ]])"
      ]
     },
     "execution_count": 49,
     "metadata": {},
     "output_type": "execute_result"
    }
   ],
   "source": [
    "X_b"
   ]
  },
  {
   "cell_type": "code",
   "execution_count": 50,
   "id": "4dbf8107",
   "metadata": {},
   "outputs": [
    {
     "data": {
      "text/plain": [
       "array([49.4415716, 62.5957512, 75.7499308, 48.9879792, 43.091278 ,\n",
       "       52.6167184, 47.9673963, 45.5860362, 47.8539982, 44.4520552,\n",
       "       46.0396286, 53.0703108, 65.8842961, 46.0396286, 43.5448704,\n",
       "       62.368955 , 45.8128324, 74.3891536, 55.565069 , 46.1530267,\n",
       "       47.8539982, 42.1840932, 45.8128324, 44.6788514, 42.6376856,\n",
       "       43.5448704, 37.3079749, 39.3491407, 39.0089464, 40.5965198,\n",
       "       38.1017616, 40.3697236, 37.1945768, 44.1118609, 33.4524395,\n",
       "       47.1736096, 30.0504965, 32.0916623, 34.8132167, 35.9471977,\n",
       "       39.9161312, 32.6586528, 30.5040889, 29.483506 , 44.6788514,\n",
       "       34.9266148, 54.5444861, 52.5033203, 51.029145 , 51.7095336,\n",
       "       60.3277892, 47.8539982, 69.9666277, 77.3375042, 58.2866234,\n",
       "       45.8128324, 47.627202 , 53.0703108, 80.7394472, 45.2458419,\n",
       "       50.4621545, 52.9569127, 61.234974 , 59.8741968, 47.9673963,\n",
       "       63.9565284, 46.7200172, 41.2769084, 45.35924  , 57.2660405,\n",
       "       38.7821502, 46.9468134, 29.2567098, 35.8337996, 34.9266148,\n",
       "       38.555354 , 40.3697236, 36.7409844, 37.1945768, 39.4625388,\n",
       "       36.7409844, 44.4520552, 41.6171027, 39.0089464, 41.2769084,\n",
       "       38.1017616, 30.1638946, 38.555354 ])"
      ]
     },
     "execution_count": 50,
     "metadata": {},
     "output_type": "execute_result"
    }
   ],
   "source": [
    "y"
   ]
  },
  {
   "cell_type": "code",
   "execution_count": 51,
   "id": "a7180fdd",
   "metadata": {},
   "outputs": [
    {
     "data": {
      "text/plain": [
       "array([ 7, 55])"
      ]
     },
     "execution_count": 51,
     "metadata": {},
     "output_type": "execute_result"
    }
   ],
   "source": [
    "theta = np.random.randint(100, size = (2,))\n",
    "theta"
   ]
  },
  {
   "cell_type": "code",
   "execution_count": 52,
   "id": "6211600c",
   "metadata": {},
   "outputs": [],
   "source": [
    "learning_rate = 0.1 #learning rate.\n",
    "n_iteration = 10000\n",
    "n = 88\n",
    "for iteration in range(n_iteration):\n",
    "    gradinent_of_costfunction = 2/n * X_b.T.dot(X_b.dot(theta) - y)\n",
    "    theta = theta - learning_rate * gradinent_of_costfunction"
   ]
  },
  {
   "cell_type": "code",
   "execution_count": 53,
   "id": "17e35152",
   "metadata": {},
   "outputs": [
    {
     "data": {
      "text/plain": [
       "array([-110.0943658 ,  103.70378935])"
      ]
     },
     "execution_count": 53,
     "metadata": {},
     "output_type": "execute_result"
    }
   ],
   "source": [
    "theta"
   ]
  },
  {
   "cell_type": "code",
   "execution_count": 54,
   "id": "6dd8ab4d",
   "metadata": {},
   "outputs": [
    {
     "data": {
      "text/plain": [
       "array([55.85243791, 61.12059041, 61.12059041, 48.60872823, 40.70649948,\n",
       "       56.51095697, 51.90132354, 45.31613291, 47.95020916, 43.34057573,\n",
       "       42.68205667, 50.58428541, 47.2916901 , 49.26724729, 41.36501854,\n",
       "       47.95020916, 41.36501854, 53.87688072, 47.95020916, 45.31613291,\n",
       "       43.99909479, 43.34057573, 54.53539979, 51.24280448, 53.87688072,\n",
       "       52.5598426 , 45.31613291, 47.95020916, 39.38946135, 43.99909479,\n",
       "       41.36501854, 45.31613291, 51.24280448, 48.60872823, 40.70649948,\n",
       "       59.14503322, 36.7553851 , 33.46278979, 40.70649948, 45.97465198,\n",
       "       43.99909479, 40.04798042, 28.19463729, 31.48723261, 50.58428541,\n",
       "       40.04798042, 42.68205667, 54.53539979, 39.38946135, 55.85243791,\n",
       "       53.87688072, 36.7553851 , 50.58428541, 60.46207135, 44.65761385,\n",
       "       50.58428541, 37.41390417, 57.8279951 , 62.43762854, 42.68205667,\n",
       "       44.65761385, 48.60872823, 54.53539979, 53.21836166, 38.07242323,\n",
       "       56.51095697, 50.58428541, 42.68205667, 45.31613291, 62.43762854,\n",
       "       37.41390417, 45.97465198, 29.51167542, 37.41390417, 42.68205667,\n",
       "       47.2916901 , 41.36501854, 41.36501854, 37.41390417, 42.68205667,\n",
       "       42.0235376 , 54.53539979, 44.65761385, 44.65761385, 55.85243791,\n",
       "       37.41390417, 34.77982792, 40.04798042])"
      ]
     },
     "execution_count": 54,
     "metadata": {},
     "output_type": "execute_result"
    }
   ],
   "source": [
    "y_pred_gd = X_b.dot(theta)\n",
    "y_pred_gd"
   ]
  },
  {
   "cell_type": "code",
   "execution_count": 59,
   "id": "aee42d45",
   "metadata": {},
   "outputs": [
    {
     "data": {
      "image/png": "[encoded data removed]",
      "text/plain": [
       "<Figure size 720x432 with 1 Axes>"
      ]
     },
     "metadata": {
      "needs_background": "light"
     },
     "output_type": "display_data"
    }
   ],
   "source": [
    "plt.figure(figsize=(10,6))\n",
    "plt.plot(X, y_pred_gd, \"b-\")\n",
    "plt.plot(X, y, \"y.\")\n",
    "plt.axis([1.3,1.7,0,90])\n",
    "plt.title(\"Linear Regression Prediction for Weight using Gradient descent\")\n",
    "plt.xlabel(\"Height in m\")\n",
    "plt.ylabel(\"Weight in kgs\")\n",
    "plt.show()"
   ]
  },
  {
   "cell_type": "code",
   "execution_count": null,
   "id": "3db74f28",
   "metadata": {},
   "outputs": [],
   "source": []
  },
  {
   "cell_type": "code",
   "execution_count": null,
   "id": "52c1782d",
   "metadata": {},
   "outputs": [],
   "source": []
  }
 ],
 "metadata": {
  "kernelspec": {
   "display_name": "Python 3 (ipykernel)",
   "language": "python",
   "name": "python3"
  },
  "language_info": {
   "codemirror_mode": {
    "name": "ipython",
    "version": 3
   },
   "file_extension": ".py",
   "mimetype": "text/x-python",
   "name": "python",
   "nbconvert_exporter": "python",
   "pygments_lexer": "ipython3",
   "version": "3.9.7"
  }
 },
 "nbformat": 4,
 "nbformat_minor": 5
}
